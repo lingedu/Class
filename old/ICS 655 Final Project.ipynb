{
 "cells": [
  {
   "cell_type": "markdown",
   "metadata": {},
   "source": [
    "# Study the Pattern Analysis of Malware by Circular Statistics\n",
    "\n",
    "                                ICS 655 Final Project \n",
    "\n",
    "                                    Yao, Ling-Chih\n"
   ]
  },
  {
   "cell_type": "markdown",
   "metadata": {},
   "source": [
    "### Background:\n",
    "\n",
    "Circular statistics is a new skill to analyse the time pattern of the events in cyber \n",
    "security. This paper use this skill to analyze the malware infection daily and weekly. After \n",
    "their experiment, they found the past hypothesis which claim the attacks are distributed uniformly is not right. They want to use the pattern of the attcks to build risk metrics."
   ]
  },
  {
   "cell_type": "markdown",
   "metadata": {},
   "source": [
    "### Security and economics\n",
    "Since they use the make the visualization of the variation of the malware attacks based on a time pattern, it can help users to recogize the peek and down time of the attacks. Security IT thus can allocate proper resouce in pretecting data from attacks, which can help to reduce the  cost in security and contribute to good pretection.\n",
    "Besides, the paper also show that the time pattern are related to the total amount of attacks. The attacks shows bimodality when a large volume of attacks and present multi-modelity when the attacks happening a lower rate. "
   ]
  },
  {
   "cell_type": "markdown",
   "metadata": {},
   "source": [
    "### Goal\n",
    "Show the analysis of the pattern of malware attacks and consider how to use the results to \n",
    "cut donw the cost in security and have better ecnomic balance. Besides, considering the potential costs in case the attck sucessfully break down their targets, the pattern can definetely help reduce the costs both on preventing and solving the attcks infections."
   ]
  },
  {
   "cell_type": "code",
   "execution_count": null,
   "metadata": {},
   "outputs": [],
   "source": []
  }
 ],
 "metadata": {
  "kernelspec": {
   "display_name": "Python 3",
   "language": "python",
   "name": "python3"
  },
  "language_info": {
   "codemirror_mode": {
    "name": "ipython",
    "version": 3
   },
   "file_extension": ".py",
   "mimetype": "text/x-python",
   "name": "python",
   "nbconvert_exporter": "python",
   "pygments_lexer": "ipython3",
   "version": "3.6.6"
  }
 },
 "nbformat": 4,
 "nbformat_minor": 2
}
