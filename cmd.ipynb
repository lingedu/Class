{
 "cells": [
  {
   "cell_type": "markdown",
   "metadata": {},
   "source": [
    "%%locally"
   ]
  },
  {
   "cell_type": "code",
   "execution_count": 6,
   "metadata": {},
   "outputs": [
    {
     "name": "stdout",
     "output_type": "stream",
     "text": [
      "[NbConvertApp] Converting notebook index.ipynb to slides\n",
      "[NbConvertApp] Writing 268274 bytes to index.slides.html\n",
      "[NbConvertApp] Serving local reveal.js\n",
      "Serving your slides at http://127.0.0.1:8000/index.slides.html\n",
      "Use Control-C to stop this server\n",
      "WARNING:tornado.access:404 GET /custom.css (127.0.0.1) 0.67ms\n",
      "WARNING:tornado.access:404 GET /custom.css (127.0.0.1) 0.93ms\n",
      "WARNING:tornado.access:404 GET /favicon.ico (127.0.0.1) 0.66ms\n",
      "^C\n",
      "\n",
      "Interrupted\n"
     ]
    }
   ],
   "source": [
    "!jupyter nbconvert index.ipynb --to slides --post serve "
   ]
  },
  {
   "cell_type": "markdown",
   "metadata": {},
   "source": [
    "%%Create slides in git server using reveal.js"
   ]
  },
  {
   "cell_type": "code",
   "execution_count": null,
   "metadata": {},
   "outputs": [],
   "source": [
    "!jupyter nbconvert --to slides index.ipynb --reveal-prefix=reveal.js "
   ]
  },
  {
   "cell_type": "markdown",
   "metadata": {},
   "source": [
    "# Links\n",
    "\n",
    "\n",
    "* [reveal.js](https://medium.com/learning-machine-learning/present-your-data-science-projects-with-jupyter-slides-75f20735eb0f)\n",
    "\n",
    "* [RISE](https://github.com/damianavila/RISE)\n",
    "* [Markdown](https://github.com/adam-p/markdown-here/wiki/Markdown-Cheatsheet)"
   ]
  },
  {
   "cell_type": "code",
   "execution_count": 7,
   "metadata": {},
   "outputs": [
    {
     "name": "stdout",
     "output_type": "stream",
     "text": [
      "On branch master\n",
      "Your branch is up-to-date with 'origin/master'.\n",
      "Changes not staged for commit:\n",
      "  (use \"git add/rm <file>...\" to update what will be committed)\n",
      "  (use \"git checkout -- <file>...\" to discard changes in working directory)\n",
      "\n",
      "\t\u001b[31mmodified:   .ipynb_checkpoints/index-checkpoint.ipynb\u001b[m\n",
      "\t\u001b[31mmodified:   .ipynb_checkpoints/report-checkpoint.ipynb\u001b[m\n",
      "\t\u001b[31mmodified:   cmd.ipynb\u001b[m\n",
      "\t\u001b[31mdeleted:    img/ticket.pdf\u001b[m\n",
      "\t\u001b[31mmodified:   index.ipynb\u001b[m\n",
      "\t\u001b[31mmodified:   index.slides.html\u001b[m\n",
      "\t\u001b[31mmodified:   report.html\u001b[m\n",
      "\t\u001b[31mmodified:   report.ipynb\u001b[m\n",
      "\n",
      "no changes added to commit (use \"git add\" and/or \"git commit -a\")\n"
     ]
    }
   ],
   "source": [
    "!git status"
   ]
  },
  {
   "cell_type": "code",
   "execution_count": 9,
   "metadata": {},
   "outputs": [],
   "source": [
    "!git add ."
   ]
  },
  {
   "cell_type": "code",
   "execution_count": 10,
   "metadata": {},
   "outputs": [
    {
     "name": "stdout",
     "output_type": "stream",
     "text": [
      "[master 8037d30] cmd git\r\n",
      " 8 files changed, 190 insertions(+), 37 deletions(-)\r\n",
      " delete mode 100644 img/ticket.pdf\r\n"
     ]
    }
   ],
   "source": [
    "!git commit -m 'cmd git'"
   ]
  },
  {
   "cell_type": "code",
   "execution_count": 11,
   "metadata": {},
   "outputs": [
    {
     "name": "stdout",
     "output_type": "stream",
     "text": [
      "warning: push.default is unset; its implicit value has changed in\n",
      "Git 2.0 from 'matching' to 'simple'. To squelch this message\n",
      "and maintain the traditional behavior, use:\n",
      "\n",
      "  git config --global push.default matching\n",
      "\n",
      "To squelch this message and adopt the new behavior now, use:\n",
      "\n",
      "  git config --global push.default simple\n",
      "\n",
      "When push.default is set to 'matching', git will push local branches\n",
      "to the remote branches that already exist with the same name.\n",
      "\n",
      "Since Git 2.0, Git defaults to the more conservative 'simple'\n",
      "behavior, which only pushes the current branch to the corresponding\n",
      "remote branch that 'git pull' uses to update the current branch.\n",
      "\n",
      "See 'git help config' and search for 'push.default' for further information.\n",
      "(the 'simple' mode was introduced in Git 1.7.11. Use the similar mode\n",
      "'current' instead of 'simple' if you sometimes use older versions of Git)\n",
      "\n",
      "Counting objects: 9, done.\n",
      "Delta compression using up to 4 threads.\n",
      "Compressing objects: 100% (9/9), done.\n",
      "Writing objects: 100% (9/9), 2.54 KiB | 0 bytes/s, done.\n",
      "Total 9 (delta 7), reused 0 (delta 0)\n",
      "remote: Resolving deltas: 100% (7/7), completed with 6 local objects.\u001b[K\n",
      "To git@github.com:s99436q/655.git\n",
      "   c3a9dac..8037d30  master -> master\n"
     ]
    }
   ],
   "source": [
    "!git push"
   ]
  }
 ],
 "metadata": {
  "kernelspec": {
   "display_name": "Python 3",
   "language": "python",
   "name": "python3"
  },
  "language_info": {
   "codemirror_mode": {
    "name": "ipython",
    "version": 3
   },
   "file_extension": ".py",
   "mimetype": "text/x-python",
   "name": "python",
   "nbconvert_exporter": "python",
   "pygments_lexer": "ipython3",
   "version": "3.6.6"
  }
 },
 "nbformat": 4,
 "nbformat_minor": 2
}
