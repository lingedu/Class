{
 "cells": [
  {
   "cell_type": "markdown",
   "metadata": {},
   "source": [
    "%%locally"
   ]
  },
  {
   "cell_type": "code",
   "execution_count": null,
   "metadata": {},
   "outputs": [
    {
     "name": "stdout",
     "output_type": "stream",
     "text": [
      "[NbConvertApp] Converting notebook index.ipynb to slides\n",
      "[NbConvertApp] Writing 268274 bytes to index.slides.html\n",
      "[NbConvertApp] Serving local reveal.js\n",
      "Serving your slides at http://127.0.0.1:8000/index.slides.html\n",
      "Use Control-C to stop this server\n",
      "WARNING:tornado.access:404 GET /custom.css (127.0.0.1) 0.67ms\n",
      "WARNING:tornado.access:404 GET /custom.css (127.0.0.1) 0.93ms\n",
      "WARNING:tornado.access:404 GET /favicon.ico (127.0.0.1) 0.66ms\n"
     ]
    }
   ],
   "source": [
    "!jupyter nbconvert index.ipynb --to slides --post serve "
   ]
  },
  {
   "cell_type": "markdown",
   "metadata": {},
   "source": [
    "%%Create slides in git server using reveal.js"
   ]
  },
  {
   "cell_type": "code",
   "execution_count": null,
   "metadata": {},
   "outputs": [],
   "source": [
    "!jupyter nbconvert --to slides index.ipynb --reveal-prefix=reveal.js "
   ]
  },
  {
   "cell_type": "markdown",
   "metadata": {},
   "source": [
    "# Links\n",
    "\n",
    "\n",
    "* [reveal.js](https://medium.com/learning-machine-learning/present-your-data-science-projects-with-jupyter-slides-75f20735eb0f)\n",
    "\n",
    "* [RISE](https://github.com/damianavila/RISE)\n",
    "* [Markdown](https://github.com/adam-p/markdown-here/wiki/Markdown-Cheatsheet)"
   ]
  },
  {
   "cell_type": "code",
   "execution_count": null,
   "metadata": {},
   "outputs": [],
   "source": [
    "!git status"
   ]
  },
  {
   "cell_type": "code",
   "execution_count": null,
   "metadata": {},
   "outputs": [],
   "source": []
  }
 ],
 "metadata": {
  "kernelspec": {
   "display_name": "Python 3",
   "language": "python",
   "name": "python3"
  },
  "language_info": {
   "codemirror_mode": {
    "name": "ipython",
    "version": 3
   },
   "file_extension": ".py",
   "mimetype": "text/x-python",
   "name": "python",
   "nbconvert_exporter": "python",
   "pygments_lexer": "ipython3",
   "version": "3.6.6"
  }
 },
 "nbformat": 4,
 "nbformat_minor": 2
}
