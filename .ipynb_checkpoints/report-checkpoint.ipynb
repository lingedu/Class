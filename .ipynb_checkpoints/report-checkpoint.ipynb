{
 "cells": [
  {
   "cell_type": "markdown",
   "metadata": {
    "slideshow": {
     "slide_type": "slide"
    }
   },
   "source": [
    "# Study the Pattern Analysis of Malware by Circular Statistics\n",
    "\n",
    "                                ICS 655 Final Project \n",
    "\n",
    "                                    Yao, Ling-Chih\n"
   ]
  },
  {
   "cell_type": "markdown",
   "metadata": {
    "slideshow": {
     "slide_type": "slide"
    }
   },
   "source": [
    "## Paper Summary\n",
    "\n",
    "Circular statistics is a new skill to analyze the time pattern of the events in cyber \n",
    "security. This paper use this skill to analyze the malware infection daily and weekly. After \n",
    "their experiment, they found the past hypothesis which claims the attacks are uniformly distributed is not right. They want to utilize these attack patterns to build the risk metrics."
   ]
  },
  {
   "cell_type": "markdown",
   "metadata": {
    "slideshow": {
     "slide_type": "slide"
    }
   },
   "source": [
    "## Background and Circular statistic\n",
    "Circular statistics has been applied in many area like public disorder, wind direction but rarely be adopted in cyber security research. The paper analyze the IP packet enter and exit monitoring points on networks. It is used to analyze the distribution of random variable which are cyclic in nature. We thus consider the time of attcking as a random variable, and map the day to a 24-hour circle. Why we consider to use circular statistic here is because if we record at 23:30, 00:15, 00:30, 00:45, the mean value of these four times is 06:15 while the true mean time should allocate in 00:15.\n",
    "\n",
    "\n"
   ]
  },
  {
   "cell_type": "markdown",
   "metadata": {
    "slideshow": {
     "slide_type": "slide"
    }
   },
   "source": [
    "## Experiment\n",
    "### Distribution Hypothesis Test\n",
    "Previous studies claim that the uniformity hypothesis is the most basic null hypothesis in circular statistics. The paper did a bunch of experiment to test the hypothesis at their beginnig sections. \n",
    "\n",
    "### Data source \n",
    "SPAMTEQ provides the malware datasets from 1000 hosts of business organization from August 8th to August 21th, 2016. It contains the IP address, ASN (automomous system number of the IP), Country, Domain, Timestamps, and Diagnostic. The paper select the top three countries which experience the most attacks and UK (the author's country).\n",
    "\n",
    "We recognized a host be infected if it propagate the virus to others, often communicate to controller, or send data to a receiver or sinkhole.\n"
   ]
  },
  {
   "cell_type": "markdown",
   "metadata": {
    "slideshow": {
     "slide_type": "slide"
    }
   },
   "source": [
    "### Linear Histograms\n",
    "Histogram is an universal graphs to describe the frequency distribution of attacks in cyber security. The graph below shows India has lower attacks in their Independence Day (August 15th). China shows that the peak time of attacks in either early morning or early afternoon, and receive less attacks in weekends. Vietnam had three peak a day, and the attacks in weekend are less than weekdays. In the constract, UK has relatively irregular pattern; it shows multimodal variantion.\n",
    "\n",
    "Inida | China | Vietnam | United Kingdom\n",
    "- | - | - | - |\n",
    "![alt](img/hist_in.png) | ![alt](img/hist_cn.png)| ![alt](img/hist_vn.png) | ![alt](img/hist_uk.png)"
   ]
  },
  {
   "cell_type": "markdown",
   "metadata": {
    "slideshow": {
     "slide_type": "slide"
    }
   },
   "source": [
    "\n",
    "### Daily Circles\n",
    "In daiy cycles, they aggregate the 2-week data into cycles to observe the active time during a day. India shows that the peak time arised around 9:30 to 15:00 and fall all the way down at 2:00. Table below shows the peak time of each country. We can see that the attack time pattern is similar to the daily working pattern in the society.\n",
    "\n",
    "\n",
    "Inida & China | Vietnam & United Kingdom\n",
    "-  | -\n",
    "![alt](img/daily_1.png) | ![alt](img/daily_2.png)\n",
    "\n"
   ]
  },
  {
   "cell_type": "markdown",
   "metadata": {
    "slideshow": {
     "slide_type": "slide"
    }
   },
   "source": [
    "### Helix Graph\n",
    "Since there may loss of information by aggregating the data together, we use the helix graph to show the data in 168 hours for 7 days (from 8th Aug to 14th Aug). In the India helix graph, the darker colors show up in the midnight, i.e. the attackers are not active that time. According to the gradual colour changes, we can observe the variation more intuitively. \n",
    "\n",
    "Inida & China | Vietnam & United Kingdom\n",
    "-  | -\n",
    "![alt](img/helix_1.png) | ![alt](img/helix_2.png)\n",
    "\n"
   ]
  },
  {
   "cell_type": "markdown",
   "metadata": {
    "slideshow": {
     "slide_type": "slide"
    }
   },
   "source": [
    "### Weekly Circle\n",
    "India and Vetnam have the similar weekly patterns. All China cycles show the high similarity in the time variation. The cycles in UK is much more irregular; pattern from Monday to Sunday are not really similar. The time pattern variations show that attacks are active in working hours during working days including Saturday. Sunday pattern, instead, is different from other weekdays. The average attacks on Sunday are less and they decrease around 1300 to 1500, which is acutally the peak period in the weekdays. The attack frequency in UK is much less than other threee countries. \n",
    "\n",
    "Inida | Vietnam \n",
    "-  | -\n",
    "![alt](img/week_in.png) | ![alt](img/week_vn.png)\n",
    "\n",
    "\n"
   ]
  },
  {
   "cell_type": "markdown",
   "metadata": {
    "slideshow": {
     "slide_type": "subslide"
    }
   },
   "source": [
    "__China & Vietnam__\n",
    "\n",
    "---\n",
    "\n",
    "![alt](img/week_2.png)\n",
    "\n",
    "---\n"
   ]
  },
  {
   "cell_type": "markdown",
   "metadata": {
    "slideshow": {
     "slide_type": "slide"
    }
   },
   "source": [
    "### Comparisons between Different Malwares\n",
    "The paper compares the two most frequent malwares in these four contries and finds that the time patterns of different malwares have no common distribution according to the Mardia-Watson-Wheeler test.\n",
    "\n",
    "Inida | China | Vietnam | United Kingdom\n",
    "- | - | - | - |\n",
    "![alt](img/cmp_in.png) | ![alt](img/cmp_cn.png)| ![alt](img/cmp_vn.png) | ![alt](img/cmp_uk.png)"
   ]
  },
  {
   "cell_type": "markdown",
   "metadata": {
    "slideshow": {
     "slide_type": "slide"
    }
   },
   "source": [
    "## Conclusion\n",
    "This paper shows that how circular statistics can be applied to the cyber security. It visualizes the daily and weekly time pattern such that we can infer the malwares' behaviors, which can help allocate the resources to mitigate attacks in an efficient manner. \n",
    "\n",
    "The paper points out the hypothesis of uniform distribution of attacks is not necessarily right. Malwares can be active in different time periods during a day and the time patterns may related to the working time of human-beings. This finding can help the decision makers to secure the data more efficiently and lower down the cost. \n",
    "\n",
    "However, the paper only analyze a very short peroid of time (Aug 8th-16th 2016) which may not be representative. It needs more data to evaluate the real varaiation of malwares."
   ]
  },
  {
   "cell_type": "markdown",
   "metadata": {
    "slideshow": {
     "slide_type": "subslide"
    }
   },
   "source": [
    "# Security and Economics?\n",
    "* Consider how to use the results of analysis of malwares' attacks to cut down the cost in security. \n",
    "* Consider the case when the malwares successfully break down their targets; what may be the cost?"
   ]
  },
  {
   "cell_type": "markdown",
   "metadata": {
    "slideshow": {
     "slide_type": "subslide"
    }
   },
   "source": [
    "### Where is Economics\n",
    "Since the paper make the visualization of the variation of the malware attacks in a cyclic time pattern, it can help users to recogize the peek and down time of the attacks. Security IT thus can allocate proper resource to pretect data from attacks, which can help to reduce the  cost.\n",
    "\n",
    "On the other hand, the paper shows that the time patterns are also related to the total amount of attacks. The attacks shows bimodality when a large volume of attacks and present multi-modelity when the attacks happening a lower rate. Understand the distributions of the patterns of the attacks can help improve the security and save redundant cost."
   ]
  },
  {
   "cell_type": "markdown",
   "metadata": {
    "slideshow": {
     "slide_type": "subslide"
    }
   },
   "source": [
    "### Applied Ecomomic Models \n",
    "We can use the \"Matching problem: Valuations\" in class. If a product can alloate the resource automatically with the time varations of the attackers, the valuation of the product will increase. While users are willing to paying more for the product, the product can bring more surplus for its company. On the other hand, users(or companies) who buy the product or adopt the circular statistic can protect the data in an efficient manner. It will help the company to cut the cost on security and reduce the risk of losing data. In conclude, the study can help each individaul, company and the whole country promote their performance on both security and ecomomics."
   ]
  }
 ],
 "metadata": {
  "celltoolbar": "Slideshow",
  "kernelspec": {
   "display_name": "Python 3",
   "language": "python",
   "name": "python3"
  },
  "language_info": {
   "codemirror_mode": {
    "name": "ipython",
    "version": 3
   },
   "file_extension": ".py",
   "mimetype": "text/x-python",
   "name": "python",
   "nbconvert_exporter": "python",
   "pygments_lexer": "ipython3",
   "version": "3.6.6"
  }
 },
 "nbformat": 4,
 "nbformat_minor": 2
}
